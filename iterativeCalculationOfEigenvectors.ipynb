{
 "cells": [
  {
   "cell_type": "code",
   "execution_count": 5,
   "metadata": {},
   "outputs": [],
   "source": [
    "using LinearAlgebra"
   ]
  },
  {
   "cell_type": "code",
   "execution_count": 1,
   "metadata": {},
   "outputs": [
    {
     "data": {
      "text/plain": [
       "cosine_similarity (generic function with 1 method)"
      ]
     },
     "metadata": {},
     "output_type": "display_data"
    }
   ],
   "source": [
    "# Cosine Similarity for determining how \"similar\" two vectors are. \n",
    "# Why use cosine similarity? Because in with eigenvectors, magnitude does not matter, only direction. \n",
    "\n",
    "# inputs: a, b are two vectors of the same dimension\n",
    "# \\result: [-1, 1]\n",
    "function cosine_similarity(a::Vector, b::Vector)\n",
    "    return dot(a, b) / (norm(a) * norm(b))\n",
    "end\n"
   ]
  },
  {
   "cell_type": "code",
   "execution_count": 2,
   "metadata": {},
   "outputs": [
    {
     "data": {
      "text/plain": [
       "power_method (generic function with 2 methods)"
      ]
     },
     "metadata": {},
     "output_type": "display_data"
    }
   ],
   "source": [
    "# Power method for finding the largest eigenvector/value pair\n",
    "\n",
    "# A:            matrix we are going to calculate with\n",
    "# u_0:          initial vector\n",
    "# tolerance:    necessary level of accuracy before returning, value in [0, 1]\n",
    "# oracle_vec:   oracle eigenvector for what we are calculating\n",
    "# \\result:      eigenvetor, eigenvalue, number of iterations to reach tolerance\n",
    "function power_method(A, u_k, oracle_vector, tolerance, with_print=false) \n",
    "\n",
    "    println(\"Starting Power Method\")\n",
    "    # 1. Calculate similarity\n",
    "    similarity = cosine_similarity(u_k, oracle_vector)\n",
    "    num_iterations = 0 \n",
    "\n",
    "    # 2. While similarity is not of certain point...\n",
    "    while (similarity < 1 - tolerance)\n",
    "        \n",
    "        # 2.a let u_k' = A u_k\n",
    "        u_k = A * u_k\n",
    "\n",
    "        # normalize u_k, this is done to prevent u_k from getting too large or too small, avoiding instablities\n",
    "        u_k /= norm(u_k)\n",
    "\n",
    "        # 2.b update similarity\n",
    "        similarity = cosine_similarity(u_k, oracle_vector)\n",
    "\n",
    "        # 2.c increment k\n",
    "        num_iterations += 1\n",
    "\n",
    "        if with_print\n",
    "            println(\"Iteration: \", num_iterations, \" Similarity: \", similarity) \n",
    "        end\n",
    "    end\n",
    "\n",
    "\n",
    "    # 3. We know vectors are similar enough, so return calculated vector, eigenvector, and num iterations\n",
    "\n",
    "    # 3.a calculate eigen value\n",
    "    # This has been done using Rayleigh Quotient (https://en.wikipedia.org/wiki/Rayleigh_quotient)\n",
    "    eigenvalue = dot(u_k, A * u_k) / dot(u_k, u_k)\n",
    "\n",
    "    return u_k, eigenvalue, num_iterations\n",
    "end"
   ]
  },
  {
   "cell_type": "code",
   "execution_count": null,
   "metadata": {},
   "outputs": [],
   "source": [
    "# This is a naieve implementation of calculating the smallest eigenvector/eigenvalue pair. \n",
    "# This is a poor implementation because it involves calculating the inverse of A - mu*I\n",
    "# An enhanced implementation would store the LU decompositions to do this\n",
    "\n",
    "function naive_inverse_power_method(A, u_k, mu, oracle_vector, tolerance, with_print=false)\n",
    "    println(\"Starting Inverse Power Method\")\n",
    "\n",
    "    # Adjust matrix A by the shift mu\n",
    "    n = size(A, 1)\n",
    "    A_shifted = A - mu * I\n",
    "\n",
    "    # 1. Calculate similarity\n",
    "    similarity = cosine_similarity(u_k, oracle_vector)\n",
    "    num_iterations = 0 \n",
    "\n",
    "    # 2. While similarity is not of certain point...\n",
    "    while (similarity < 1 - tolerance)\n",
    "        \n",
    "        # 2.a solve (A - mu*I)u_k' = u_k\n",
    "        # Here we use a linear solver instead of direct multiplication\n",
    "        u_k = A_shifted \\ u_k\n",
    "\n",
    "        # Normalize u_k\n",
    "        u_k /= norm(u_k)\n",
    "\n",
    "        # 2.b update similarity\n",
    "        similarity = cosine_similarity(u_k, oracle_vector)\n",
    "\n",
    "        # 2.c increment k\n",
    "        num_iterations += 1\n",
    "\n",
    "        if with_print\n",
    "            println(\"Iteration: \", num_iterations, \" Similarity: \", similarity) \n",
    "        end\n",
    "    end\n",
    "\n",
    "    # 3. Calculate eigenvalue using Rayleigh Quotient\n",
    "    eigenvalue = dot(u_k, A * u_k) / dot(u_k, u_k)\n",
    "\n",
    "    return u_k, eigenvalue, num_iterations\n",
    "end\n"
   ]
  },
  {
   "cell_type": "code",
   "execution_count": 3,
   "metadata": {},
   "outputs": [
    {
     "data": {
      "text/plain": [
       "inverse_power_method_LU (generic function with 2 methods)"
      ]
     },
     "metadata": {},
     "output_type": "display_data"
    }
   ],
   "source": [
    "function inverse_power_method_LU(A, u_k, oracle_vector, tolerance, with_print=false)\n",
    "    println(\"Starting Inverse Power Method with LU Decomposition\")\n",
    "\n",
    "    # set mu\n",
    "    mu = dot(u_k, A * u_k) / dot(u_k, u_k) # Rayleigh Quotient\n",
    "\n",
    "    # Shift matrix A by mu\n",
    "    n = size(A, 1)\n",
    "    A_shifted = A - mu * I\n",
    "\n",
    "    # Perform LU decomposition of A_shifted\n",
    "    # Julia's factorize function automatically chooses the best factorization\n",
    "    LU = factorize(A_shifted)\n",
    "\n",
    "    # Initial similarity calculation\n",
    "    similarity = cosine_similarity(u_k, oracle_vector)\n",
    "    num_iterations = 0 \n",
    "\n",
    "    while (similarity < 1 - tolerance)\n",
    "        # Solve the system using LU factors\n",
    "        u_k = LU \\ u_k\n",
    "\n",
    "        # Normalize u_k\n",
    "        u_k /= norm(u_k)\n",
    "\n",
    "        # Update similarity\n",
    "        similarity = cosine_similarity(u_k, oracle_vector)\n",
    "\n",
    "        # Increment iteration count\n",
    "        num_iterations += 1\n",
    "\n",
    "        if with_print\n",
    "            println(\"Iteration: \", num_iterations, \" Similarity: \", similarity) \n",
    "        end\n",
    "    end\n",
    "\n",
    "    # Calculate eigenvalue using Rayleigh Quotient\n",
    "    eigenvalue = dot(u_k, A * u_k) / dot(u_k, u_k)\n",
    "\n",
    "    return u_k, eigenvalue, num_iterations\n",
    "end\n"
   ]
  },
  {
   "cell_type": "code",
   "execution_count": 7,
   "metadata": {},
   "outputs": [],
   "source": [
    "A = diagm(0 => [4, 3, 2])\n",
    "u_0 = rand(3)\n",
    "largest_oracle_vector = [1, 0, 0] # Since the largest eigenvalue is 4, corresponding eigenvector is [1, 0, 0]\n",
    "smallest_oracle_vector = [0, 0, 1] # Since the largest eigenvalue is 4, corresponding eigenvector is [1, 0, 0]\n",
    "tolerance = 1e-3\n",
    "\n",
    "apx_eigenvec, apx_eigenval, num_iterations = power_method(A, u_0, largest_oracle_vector, tolerance)\n",
    "println(\"<-- Power Methods results for Diagonal Matrix -->\")\n",
    "println(\"Oracle Eigenvector: \", largest_oracle_vector)\n",
    "println(\"Oracle Eigenvalue: \", dot(largest_oracle_vector, A * largest_oracle_vector) / dot(largest_oracle_vector, largest_oracle_vector))\n",
    "println(\"Approximated Eigenvector: \", apx_eigenvec)\n",
    "println(\"Approximated Eigenvalue: \", apx_eigenval)\n",
    "println(\"Number of Iterations: \", num_iterations)\n",
    "\n",
    "println(\"\")\n",
    "\n",
    "apx_eigenvec, apx_eigenval, num_iterations = inverse_power_method_LU(A, u_0, smallest_oracle_vector, tolerance)\n",
    "println(\"<-- Inverse Power Methods results for Diagonal Matrix -->\")\n",
    "println(\"Oracle Eigenvector: \", smallest_oracle_vector)\n",
    "println(\"Oracle Eigenvalue: \", dot(smallest_oracle_vector, A * smallest_oracle_vector) / dot(smallest_oracle_vector, smallest_oracle_vector))\n",
    "println(\"Approximated Eigenvector: \", apx_eigenvec)\n",
    "println(\"Approximated Eigenvalue: \", apx_eigenval)\n",
    "println(\"Number of Iterations: \", num_iterations)\n"
   ]
  },
  {
   "cell_type": "code",
   "execution_count": null,
   "metadata": {},
   "outputs": [],
   "source": [
    "A = [2 1; 1 2]\n",
    "u_0 = rand(2)\n",
    "oracle_vector = [1/sqrt(2), 1/sqrt(2)] # Assuming knowledge of the eigenvector for testing\n",
    "tolerance = 1e-6\n",
    "\n",
    "apx_eigenvec, apx_eigenval, num_iterations = power_method(A, u_0, oracle_vector, tolerance)\n",
    "\n",
    "println(\"<-- Result for Diagonal Matrix -->\")\n",
    "println(\"Oracle Eigenvector: \", oracle_vector)\n",
    "println(\"Oracle Eigenvalue: \", dot(oracle_vector, A * oracle_vector) / dot(oracle_vector, oracle_vector))\n",
    "println(\"Approximated Eigenvector: \", apx_eigenvec)\n",
    "println(\"Approximated Eigenvalue: \", apx_eigenval)\n",
    "println(\"Number of Iterations: \", num_iterations)\n"
   ]
  }
 ],
 "metadata": {
  "kernelspec": {
   "display_name": "Julia 1.9.3",
   "language": "julia",
   "name": "julia-1.9"
  },
  "language_info": {
   "file_extension": ".jl",
   "mimetype": "application/julia",
   "name": "julia",
   "version": "1.9.3"
  },
  "orig_nbformat": 4
 },
 "nbformat": 4,
 "nbformat_minor": 2
}
